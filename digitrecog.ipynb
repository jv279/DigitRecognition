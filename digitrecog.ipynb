{
 "cells": [
  {
   "cell_type": "code",
   "execution_count": 1,
   "metadata": {},
   "outputs": [],
   "source": [
    "import tensorflow as tf\n",
    "import numpy as np"
   ]
  },
  {
   "cell_type": "code",
   "execution_count": 2,
   "metadata": {},
   "outputs": [],
   "source": [
    "#Load and prepare the MNIST dataset. Convert the samples from integers to floating-point numbers:\n",
    "mnist = tf.keras.datasets.mnist\n",
    "\n",
    "(train_data, train_labels), (test_data, test_labels) = mnist.load_data()\n",
    "#Fuzzy edges in the images mean the values vary. This converts it to floating point values. between 0 and 1 not 0 and 255\n",
    "train_data, test_data = train_data / 255.0, test_data / 255.0"
   ]
  },
  {
   "cell_type": "code",
   "execution_count": 3,
   "metadata": {},
   "outputs": [],
   "source": [
    "#Build the tf.keras.Sequential model by stacking layers. Choose an optimizer and loss function for training:\n",
    "model = tf.keras.models.Sequential([\n",
    "  tf.keras.layers.Flatten(input_shape=(28, 28)),\n",
    "  tf.keras.layers.Dense(128, activation='relu'),\n",
    "  tf.keras.layers.Dense(10, activation = tf.nn.softmax)\n",
    "])"
   ]
  },
  {
   "cell_type": "code",
   "execution_count": 4,
   "metadata": {},
   "outputs": [],
   "source": [
    "model.compile(optimizer='adam',\n",
    "              loss='sparse_categorical_crossentropy',\n",
    "              metrics=['accuracy'])\n"
   ]
  },
  {
   "cell_type": "code",
   "execution_count": 147,
   "metadata": {},
   "outputs": [
    {
     "name": "stdout",
     "output_type": "stream",
     "text": [
      "Epoch 1/5\n",
      "1875/1875 [==============================] - 3s 2ms/step - loss: 0.0154 - accuracy: 0.9952\n",
      "Epoch 2/5\n",
      "1875/1875 [==============================] - 3s 2ms/step - loss: 0.0129 - accuracy: 0.9961\n",
      "Epoch 3/5\n",
      "1875/1875 [==============================] - 3s 2ms/step - loss: 0.0105 - accuracy: 0.9967\n",
      "Epoch 4/5\n",
      "1875/1875 [==============================] - 3s 2ms/step - loss: 0.0100 - accuracy: 0.9968\n",
      "Epoch 5/5\n",
      "1875/1875 [==============================] - 3s 2ms/step - loss: 0.0081 - accuracy: 0.9975\n"
     ]
    },
    {
     "data": {
      "text/plain": [
       "<tensorflow.python.keras.callbacks.History at 0x25c11b48088>"
      ]
     },
     "execution_count": 147,
     "metadata": {},
     "output_type": "execute_result"
    }
   ],
   "source": [
    "model.fit(train_data, train_labels, epochs=5)"
   ]
  },
  {
   "cell_type": "code",
   "execution_count": 38,
   "metadata": {},
   "outputs": [
    {
     "name": "stdout",
     "output_type": "stream",
     "text": [
      "[7 2 1 0 4 1 4 9 5 9 0 6 9 0 1 5 9 7 3 4]\n",
      "7\n"
     ]
    },
    {
     "data": {
      "image/png": "[encoded data removed]",
      "text/plain": [
       "<Figure size 432x288 with 1 Axes>"
      ]
     },
     "metadata": {
      "needs_background": "light"
     },
     "output_type": "display_data"
    },
    {
     "name": "stdout",
     "output_type": "stream",
     "text": [
      "<class 'numpy.ndarray'>\n",
      "(28, 28)\n",
      "(10000, 28, 28)\n"
     ]
    }
   ],
   "source": [
    "import matplotlib.pyplot as plt\n",
    "predictions = model.predict(test_data)\n",
    "# np.set_printoptions(suppress = True)\n",
    "print(test_labels[0:20])\n",
    "print(np.argmax(predictions[0]))\n",
    "plt.imshow(test_data[0])\n",
    "plt.show()\n",
    "print(type(test_data[0]))\n",
    "print(test_data[0].shape)\n",
    "print(test_data.shape)"
   ]
  },
  {
   "cell_type": "code",
   "execution_count": 7,
   "metadata": {},
   "outputs": [
    {
     "name": "stdout",
     "output_type": "stream",
     "text": [
      "[[0.0, 0.0, 0.0, 0.0, 0.0, 0.0, 0.0, 0.0, 0.0, 0.0, 0.0, 0.0, 0.0, 0.0, 0.0, 0.0, 0.0, 0.0, 0.0, 0.0, 0.0, 0.0, 0.0, 0.0, 0.0, 0.0, 0.0, 0.0], [0.0, 0.0, 0.0, 0.0, 0.0, 0.0, 0.0, 0.0, 0.007843138, 0.019607844, 0.047058824, 0.050980393, 0.05490196, 0.05490196, 0.047058824, 0.039215688, 0.03137255, 0.02745098, 0.015686275, 0.0, 0.0, 0.0, 0.0, 0.0, 0.0, 0.0, 0.0, 0.0], [0.0, 0.0, 0.0, 0.0, 0.0, 0.019607844, 0.07450981, 0.11372549, 0.27058825, 0.5019608, 0.6862745, 0.75686276, 0.7764706, 0.7647059, 0.72156864, 0.6627451, 0.5882353, 0.49411765, 0.34117648, 0.101960786, 0.0, 0.0, 0.0, 0.0, 0.0, 0.0, 0.0, 0.0], [0.0, 0.0, 0.0, 0.0, 0.09803922, 0.5294118, 0.83137256, 0.9137255, 0.94509804, 0.9647059, 0.9764706, 0.98039216, 0.98039216, 0.98039216, 0.9764706, 0.9764706, 0.96862745, 0.9647059, 0.91764706, 0.54901963, 0.015686275, 0.0, 0.0, 0.0, 0.0, 0.0, 0.0, 0.0], [0.0, 0.0, 0.0, 0.019607844, 0.36078432, 0.9137255, 0.9882353, 0.99215686, 0.9843137, 0.9843137, 0.972549, 0.96862745, 0.9647059, 0.96862745, 0.972549, 0.972549, 0.9764706, 0.9843137, 0.9490196, 0.73333335, 0.0627451, 0.0, 0.0, 0.0, 0.0, 0.0, 0.0, 0.0], [0.003921569, 0.0, 0.0, 0.02745098, 0.48235294, 0.9607843, 0.99215686, 0.98039216, 0.9137255, 0.81960785, 0.6862745, 0.5764706, 0.54509807, 0.56078434, 0.6156863, 0.6862745, 0.7529412, 0.8156863, 0.76862746, 0.4, 0.003921569, 0.0, 0.0, 0.0, 0.0, 0.0, 0.0, 0.0], [0.0, 0.0, 0.0, 0.023529412, 0.47843137, 0.95686275, 0.98039216, 0.84313726, 0.18431373, 0.0627451, 0.039215688, 0.02745098, 0.02745098, 0.02745098, 0.03529412, 0.043137256, 0.050980393, 0.05490196, 0.06666667, 0.003921569, 0.0, 0.0, 0.0, 0.0, 0.0, 0.0, 0.0, 0.0], [0.0, 0.0, 0.0, 0.023529412, 0.44705883, 0.9490196, 0.9764706, 0.8117647, 0.05882353, 0.0, 0.0, 0.0, 0.0, 0.0, 0.0, 0.0, 0.0, 0.0, 0.0, 0.0, 0.0, 0.0, 0.0, 0.0, 0.0, 0.0, 0.0, 0.0], [0.0, 0.0, 0.0, 0.023529412, 0.4627451, 0.9529412, 0.972549, 0.80784315, 0.05490196, 0.0, 0.0, 0.0, 0.0, 0.0, 0.003921569, 0.0, 0.0, 0.0, 0.0, 0.0, 0.0, 0.0, 0.0, 0.0, 0.0, 0.0, 0.0, 0.0], [0.0, 0.0, 0.0, 0.02745098, 0.54901963, 0.9607843, 0.9764706, 0.77254903, 0.05490196, 0.0, 0.0, 0.0, 0.0, 0.0, 0.0, 0.0, 0.0, 0.003921569, 0.0, 0.0, 0.0, 0.0, 0.0, 0.0, 0.0, 0.0, 0.0, 0.0], [0.0, 0.0, 0.0, 0.043137256, 0.6784314, 0.972549, 0.9764706, 0.7411765, 0.18431373, 0.08235294, 0.02745098, 0.003921569, 0.0, 0.0, 0.0, 0.0, 0.0, 0.0, 0.0, 0.0, 0.0, 0.0, 0.0, 0.0, 0.0, 0.0, 0.0, 0.0], [0.0, 0.0, 0.0, 0.05490196, 0.75686276, 0.9843137, 0.99607843, 0.96862745, 0.90588236, 0.80784315, 0.56078434, 0.25882354, 0.07450981, 0.003921569, 0.0, 0.0, 0.0, 0.0, 0.0, 0.0, 0.0, 0.0, 0.0, 0.0, 0.0, 0.0, 0.0, 0.0], [0.0, 0.0, 0.0, 0.05490196, 0.6862745, 0.9764706, 0.99215686, 0.9882353, 0.9843137, 0.98039216, 0.9647059, 0.9098039, 0.7176471, 0.35686275, 0.05490196, 0.0, 0.0, 0.0, 0.0, 0.0, 0.0, 0.003921569, 0.0, 0.0, 0.0, 0.0, 0.0, 0.0], [0.0, 0.0, 0.0, 0.003921569, 0.32941177, 0.8, 0.91764706, 0.91764706, 0.9372549, 0.9607843, 0.98039216, 0.9843137, 0.9764706, 0.9372549, 0.6745098, 0.19607843, 0.003921569, 0.0, 0.0, 0.0, 0.0, 0.0, 0.0, 0.0, 0.0, 0.0, 0.0, 0.0], [0.0, 0.0, 0.0, 0.0, 0.023529412, 0.11372549, 0.14901961, 0.13333334, 0.2627451, 0.5647059, 0.83137256, 0.94509804, 0.9843137, 0.9882353, 0.96862745, 0.8156863, 0.36078432, 0.02745098, 0.003921569, 0.0, 0.0, 0.0, 0.0, 0.0, 0.0, 0.0, 0.0, 0.0], [0.0, 0.0, 0.0, 0.0, 0.0, 0.003921569, 0.003921569, 0.0, 0.003921569, 0.03137255, 0.11372549, 0.39607844, 0.80784315, 0.96862745, 0.9843137, 0.972549, 0.87058824, 0.36862746, 0.003921569, 0.0, 0.0, 0.0, 0.0, 0.0, 0.0, 0.0, 0.0, 0.0], [0.003921569, 0.0, 0.0, 0.0, 0.0, 0.0, 0.0, 0.0, 0.0, 0.003921569, 0.0, 0.007843138, 0.14117648, 0.57254905, 0.9098039, 0.9843137, 0.9843137, 0.79607844, 0.15294118, 0.0, 0.0, 0.0, 0.0, 0.0, 0.0, 0.0, 0.0, 0.0], [0.0, 0.0, 0.0, 0.0, 0.0, 0.0, 0.0, 0.0, 0.0, 0.0, 0.0, 0.0, 0.0, 0.0627451, 0.45882353, 0.93333334, 0.9882353, 0.9529412, 0.49019608, 0.015686275, 0.0, 0.0, 0.0, 0.0, 0.0, 0.0, 0.0, 0.0], [0.0, 0.0, 0.0, 0.0, 0.0, 0.0, 0.0, 0.0, 0.0, 0.0, 0.0, 0.0, 0.0, 0.0, 0.05882353, 0.6627451, 0.96862745, 0.9764706, 0.78431374, 0.05882353, 0.0, 0.0, 0.0, 0.0, 0.0, 0.0, 0.0, 0.0], [0.0, 0.0, 0.0, 0.0, 0.0, 0.007843138, 0.023529412, 0.0, 0.0, 0.0, 0.0, 0.0, 0.0, 0.0, 0.0, 0.2901961, 0.94509804, 0.9843137, 0.8980392, 0.09019608, 0.0, 0.0, 0.0, 0.0, 0.0, 0.0, 0.0, 0.0], [0.0, 0.003921569, 0.0, 0.0, 0.05490196, 0.24313726, 0.34117648, 0.2, 0.023529412, 0.007843138, 0.007843138, 0.003921569, 0.003921569, 0.011764706, 0.011764706, 0.21960784, 0.9411765, 0.9882353, 0.9137255, 0.09019608, 0.0, 0.0, 0.0, 0.0, 0.0, 0.0, 0.0, 0.0], [0.0, 0.0, 0.0, 0.007843138, 0.18039216, 0.7176471, 0.8980392, 0.8509804, 0.5647059, 0.28627452, 0.18039216, 0.16470589, 0.2, 0.26666668, 0.3882353, 0.7254902, 0.9764706, 0.9843137, 0.85490197, 0.07058824, 0.0, 0.0, 0.0, 0.0, 0.0, 0.0, 0.0, 0.0], [0.003921569, 0.0, 0.0, 0.011764706, 0.22352941, 0.80784315, 0.96862745, 0.98039216, 0.9647059, 0.94509804, 0.92941177, 0.93333334, 0.93333334, 0.9411765, 0.9529412, 0.9764706, 0.9843137, 0.96862745, 0.6392157, 0.03137255, 0.0, 0.0, 0.0, 0.0, 0.0, 0.0, 0.0, 0.0], [0.0, 0.0, 0.003921569, 0.0, 0.078431375, 0.5019608, 0.87058824, 0.9647059, 0.9764706, 0.9843137, 0.9882353, 0.9882353, 0.9882353, 0.9843137, 0.98039216, 0.98039216, 0.95686275, 0.76862746, 0.22745098, 0.003921569, 0.0, 0.0, 0.0, 0.0, 0.0, 0.0, 0.0, 0.0], [0.0, 0.0, 0.0, 0.0, 0.0, 0.03529412, 0.25882354, 0.5803922, 0.8039216, 0.8862745, 0.90588236, 0.9098039, 0.8980392, 0.8784314, 0.85490197, 0.7607843, 0.5176471, 0.18039216, 0.011764706, 0.0, 0.0, 0.0, 0.0, 0.0, 0.0, 0.0, 0.0, 0.0], [0.0, 0.0, 0.0, 0.0, 0.0, 0.0, 0.003921569, 0.02745098, 0.0627451, 0.07450981, 0.07450981, 0.078431375, 0.078431375, 0.07058824, 0.0627451, 0.05490196, 0.023529412, 0.0, 0.0, 0.0, 0.0, 0.0, 0.0, 0.0, 0.0, 0.0, 0.0, 0.0], [0.0, 0.0, 0.0, 0.0, 0.0, 0.0, 0.0, 0.0, 0.0, 0.0, 0.0, 0.003921569, 0.003921569, 0.0, 0.0, 0.0, 0.0, 0.0, 0.0, 0.0, 0.0, 0.0, 0.0, 0.0, 0.0, 0.0, 0.0, 0.0], [0.0, 0.0, 0.0, 0.0, 0.0, 0.0, 0.0, 0.0, 0.0, 0.0, 0.0, 0.0, 0.0, 0.0, 0.0, 0.0, 0.0, 0.0, 0.0, 0.0, 0.0, 0.0, 0.0, 0.0, 0.0, 0.0, 0.0, 0.0]]\n"
     ]
    }
   ],
   "source": [
    "import cv2 as cv\n",
    "# from PIL import Image\n",
    "# im = Image.open('digit28_5.jpg', 'r')\n",
    "# pix_val = list(im.getdata())\n",
    "# print(pix_val)\n",
    "# pix_val_flat = [abs((x/255)-1) for sets in pix_val for x in sets]\n",
    "# # print(pix_val_flat)\n",
    "file = 'digit28_5.jpg'\n",
    "image = cv.imread(file, cv.IMREAD_GRAYSCALE)\n",
    "# image = cv.resize(file, (28, 28))\n",
    "image = image.astype('float32')\n",
    "image = image.reshape(1, 28, 28, 1)\n",
    "image = 255-image\n",
    "image /= 255\n",
    "\n",
    "matrix = []\n",
    "for j in image[0]:\n",
    "    new_row = []\n",
    "    for k in j:\n",
    "        new_row.append(k[0])\n",
    "    matrix.append(new_row)\n",
    "print(matrix)    "
   ]
  },
  {
   "cell_type": "code",
   "execution_count": 8,
   "metadata": {},
   "outputs": [],
   "source": [
    "# import pygame\n",
    " \n",
    "# # Define some colors\n",
    "# BLACK = (0, 0, 0)\n",
    "# WHITE = (255, 255, 255)\n",
    " \n",
    "# # This sets the WIDTH and HEIGHT of each grid location\n",
    "# WIDTH = 20\n",
    "# HEIGHT = 20\n",
    " \n",
    "# # This sets the margin between each cell\n",
    "# MARGIN = 1\n",
    " \n",
    "# # Create a 2 dimensional array. A two dimensional\n",
    "# # array is simply a list of lists.\n",
    "# grid = []\n",
    "# for row in range(28):\n",
    "#     # Add an empty array that will hold each cell\n",
    "#     # in this row\n",
    "#     grid.append([])\n",
    "#     for column in range(28):\n",
    "#         grid[row].append(0)  # Append a cell\n",
    "  \n",
    "# # Initialize pygame\n",
    "# pygame.init()\n",
    " \n",
    "# # Set the HEIGHT and WIDTH of the screen\n",
    "# WINDOW_SIZE = [588, 588]\n",
    "# screen = pygame.display.set_mode(WINDOW_SIZE)\n",
    " \n",
    "# # Set title of screen\n",
    "# pygame.display.set_caption(\"Array Backed Grid\")\n",
    " \n",
    "# # Loop until the user clicks the close button.\n",
    "# done = False\n",
    " \n",
    "# # Used to manage how fast the screen updates\n",
    "# clock = pygame.time.Clock()\n",
    " \n",
    "# # -------- Main Program Loop -----------\n",
    "# while not done:\n",
    "#     for event in pygame.event.get():  # User did something\n",
    "#         if event.type == pygame.QUIT:  # If user clicked close\n",
    "#             done = True  # Flag that we are done so we exit this loop\n",
    "#         elif event.type == pygame.MOUSEBUTTONDOWN:\n",
    "#             # User clicks the mouse. Get the position\n",
    "#             pos = pygame.mouse.get_pos()\n",
    "#             # Change the x/y screen coordinates to grid coordinates\n",
    "#             column = pos[0] // (WIDTH + MARGIN)\n",
    "#             row = pos[1] // (HEIGHT + MARGIN)\n",
    "#             # Set that location to one\n",
    "#             grid[row][column] = 1\n",
    "#             print(\"Click \", pos, \"Grid coordinates: \", row, column)\n",
    "            \n",
    " \n",
    "#     # Set the screen background\n",
    "#     screen.fill(BLACK)\n",
    " \n",
    "#     # Draw the grid\n",
    "#     for row in range(28):\n",
    "#         for column in range(28):\n",
    "#             color = WHITE\n",
    "#             if grid[row][column] == 1:\n",
    "#                 color = BLACK\n",
    "#             pygame.draw.rect(screen,\n",
    "#                              color,\n",
    "#                              [(MARGIN + WIDTH) * column + MARGIN,\n",
    "#                               (MARGIN + HEIGHT) * row + MARGIN,\n",
    "#                               WIDTH,\n",
    "#                               HEIGHT])\n",
    " \n",
    "#     # Limit to 60 frames per second\n",
    "#     clock.tick(60)\n",
    " \n",
    "#     # Go ahead and update the screen with what we've drawn.\n",
    "#     pygame.display.flip()\n",
    " \n",
    "# # Be IDLE friendly. If you forget this line, the program will 'hang'\n",
    "# # on exit.\n",
    "# pygame.quit()\n",
    "# print(grid)"
   ]
  },
  {
   "cell_type": "code",
   "execution_count": 9,
   "metadata": {
    "scrolled": true
   },
   "outputs": [],
   "source": [
    "# print(np.array(grid))\n",
    "# y=np.array([np.array(xi) for xi in grid])\n",
    "# print(y)\n",
    "# xx = np.array([y])"
   ]
  },
  {
   "cell_type": "code",
   "execution_count": 10,
   "metadata": {},
   "outputs": [],
   "source": [
    "# for row in range(len(grid)):\n",
    "#     for col in range(len(grid)):\n",
    "#         fcell = float(grid[row][col])\n",
    "#         grid[row][col] = fcell\n",
    "# print(grid)\n",
    "# ggrid = np.array(grid)\n",
    "# predictions = model.predict(y)"
   ]
  },
  {
   "cell_type": "code",
   "execution_count": 20,
   "metadata": {},
   "outputs": [],
   "source": [
    "# img = cv.imread(file,0)\n",
    "# cv.imshow(\"image\", img)\n",
    "# cv.waitKey(0)\n",
    "# cv.destroyAllWindows()\n",
    "# img2 = abs((img / 255.0) -1)\n",
    "# img2 = cv.resize(img2, (28,28), cv.INTER_AREA)\n",
    "# img2 = img2.reshape(1,28,28)\n",
    "# predictionn = model.predict([img2])\n",
    "\n",
    "# print(np.argmax(predictionn[0]))\n",
    "\n",
    "# pree = model.predict(xx)\n",
    "# print(np.argmax(pree[0]))\n",
    "\n",
    "\n"
   ]
  },
  {
   "cell_type": "code",
   "execution_count": 12,
   "metadata": {},
   "outputs": [],
   "source": [
    "done = False"
   ]
  },
  {
   "cell_type": "code",
   "execution_count": 157,
   "metadata": {},
   "outputs": [
    {
     "name": "stdout",
     "output_type": "stream",
     "text": [
      "7\n"
     ]
    }
   ],
   "source": [
    "import pygame\n",
    "\n",
    "\n",
    "BLACK = (0,0,0)\n",
    "WHITE = (255, 255, 255)\n",
    "isPressed = False\n",
    "\n",
    "screen = pygame.display.set_mode((280,280))\n",
    "\n",
    "\n",
    "screen.fill(WHITE)\n",
    "def drawCircle(screen,x,y):\n",
    "  pygame.draw.circle(screen,BLACK,(x,y),10)\n",
    "\n",
    "\n",
    "done = False\n",
    "while done == False:\n",
    "\n",
    "    for event in pygame.event.get():\n",
    "        if event.type == pygame.QUIT:  # If user clicked close\n",
    "            done = True  # Flag that we are done so we exit this loop\n",
    "        if event.type == pygame.MOUSEBUTTONDOWN:\n",
    "            isPressed = True\n",
    "        elif event.type == pygame.MOUSEBUTTONUP:\n",
    "            isPressed = False\n",
    "        if event.type == pygame.MOUSEMOTION and isPressed == True:\n",
    "            (x,y) = pygame.mouse.get_pos()\n",
    "            drawCircle(screen,x,y)\n",
    "        pygame.display.flip()\n",
    "        \n",
    "pygame.image.save(screen, \"screenshot.jpg\")\n",
    "\n",
    "pygame.quit()\n",
    "\n",
    "img = cv.imread(\"screenshot.jpg\",0)\n",
    "# cv.imshow(\"screenshot.jpg\", img)\n",
    "# cv.waitKey(0)\n",
    "cv.destroyAllWindows()\n",
    "img2 = abs((img / 255.0) -1)\n",
    "img2 = cv.resize(img2, (28,28), cv.INTER_AREA)\n",
    "img2 = img2.reshape(1,28,28)\n",
    "predictionn = model.predict([img2])\n",
    "\n",
    "print(np.argmax(predictionn[0]))\n"
   ]
  },
  {
   "cell_type": "code",
   "execution_count": 22,
   "metadata": {},
   "outputs": [
    {
     "name": "stdout",
     "output_type": "stream",
     "text": [
      "3\n"
     ]
    }
   ],
   "source": [
    "# img = cv.imread(file,0)\n",
    "# cv.imshow(\"screenshot.jpg\", img)\n",
    "# cv.waitKey(0)\n",
    "# cv.destroyAllWindows()\n",
    "# img2 = abs((img / 255.0) -1)\n",
    "# img2 = cv.resize(img2, (28,28), cv.INTER_AREA)\n",
    "# img2 = img2.reshape(1,28,28)\n",
    "# predictionn = model.predict([img2])\n",
    "\n",
    "# print(np.argmax(predictionn[0]))\n",
    "\n",
    "\n"
   ]
  }
 ],
 "metadata": {
  "kernelspec": {
   "display_name": "Tensorflow2",
   "language": "python",
   "name": "tensorflow2"
  },
  "language_info": {
   "codemirror_mode": {
    "name": "ipython",
    "version": 3
   },
   "file_extension": ".py",
   "mimetype": "text/x-python",
   "name": "python",
   "nbconvert_exporter": "python",
   "pygments_lexer": "ipython3",
   "version": "3.7.9"
  }
 },
 "nbformat": 4,
 "nbformat_minor": 2
}
