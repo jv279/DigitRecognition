{
 "cells": [
  {
   "cell_type": "code",
   "execution_count": 1,
   "metadata": {},
   "outputs": [],
   "source": [
    "import tensorflow as tf\n",
    "import numpy as np"
   ]
  },
  {
   "cell_type": "code",
   "execution_count": 2,
   "metadata": {},
   "outputs": [],
   "source": [
    "#Load and prepare the MNIST dataset. Convert the samples from integers to floating-point numbers:\n",
    "mnist = tf.keras.datasets.mnist\n",
    "\n",
    "(train_data, train_labels), (test_data, test_labels) = mnist.load_data()\n",
    "#Fuzzy edges in the images mean the values vary. This converts it to floating point values. between 0 and 1 not 0 and 255\n",
    "train_data, test_data = train_data / 255.0, test_data / 255.0"
   ]
  },
  {
   "cell_type": "code",
   "execution_count": 3,
   "metadata": {},
   "outputs": [],
   "source": [
    "#Build the tf.keras.Sequential model by stacking layers. Choose an optimizer and loss function for training:\n",
    "model = tf.keras.models.Sequential([\n",
    "  tf.keras.layers.Flatten(input_shape=(28, 28)),\n",
    "  tf.keras.layers.Dense(128, activation='relu'),\n",
    "  tf.keras.layers.Dense(10, activation = tf.nn.softmax)\n",
    "])"
   ]
  },
  {
   "cell_type": "code",
   "execution_count": 4,
   "metadata": {},
   "outputs": [],
   "source": [
    "model.compile(optimizer='adam',\n",
    "              loss='sparse_categorical_crossentropy',\n",
    "              metrics=['accuracy'])\n"
   ]
  },
  {
   "cell_type": "code",
   "execution_count": 124,
   "metadata": {},
   "outputs": [
    {
     "name": "stdout",
     "output_type": "stream",
     "text": [
      "Epoch 1/3\n",
      "1875/1875 [==============================] - 3s 2ms/step - loss: 0.0343 - accuracy: 0.9896\n",
      "Epoch 2/3\n",
      "1875/1875 [==============================] - 3s 2ms/step - loss: 0.0265 - accuracy: 0.9919\n",
      "Epoch 3/3\n",
      "1875/1875 [==============================] - 3s 2ms/step - loss: 0.0226 - accuracy: 0.9928\n"
     ]
    },
    {
     "data": {
      "text/plain": [
       "<tensorflow.python.keras.callbacks.History at 0x25c11d3ca08>"
      ]
     },
     "execution_count": 124,
     "metadata": {},
     "output_type": "execute_result"
    }
   ],
   "source": [
    "model.fit(train_data, train_labels, epochs=3)"
   ]
  },
  {
   "cell_type": "code",
   "execution_count": 38,
   "metadata": {},
   "outputs": [
    {
     "name": "stdout",
     "output_type": "stream",
     "text": [
      "[7 2 1 0 4 1 4 9 5 9 0 6 9 0 1 5 9 7 3 4]\n",
      "7\n"
     ]
    },
    {
     "data": {
      "image/png": "[encoded data removed]",
      "text/plain": [
       "<Figure size 432x288 with 1 Axes>"
      ]
     },
     "metadata": {
      "needs_background": "light"
     },
     "output_type": "display_data"
    },
    {
     "name": "stdout",
     "output_type": "stream",
     "text": [
      "<class 'numpy.ndarray'>\n",
      "(28, 28)\n",
      "(10000, 28, 28)\n"
     ]
    }
   ],
   "source": [
    "import matplotlib.pyplot as plt\n",
    "predictions = model.predict(test_data)\n",
    "# np.set_printoptions(suppress = True)\n",
    "print(test_labels[0:20])\n",
    "print(np.argmax(predictions[0]))\n",
    "plt.imshow(test_data[0])\n",
    "plt.show()\n",
    "print(type(test_data[0]))\n",
    "print(test_data[0].shape)\n",
    "print(test_data.shape)"
   ]
  },
  {
   "cell_type": "code",
   "execution_count": 161,
   "metadata": {},
   "outputs": [
    {
     "name": "stdout",
     "output_type": "stream",
     "text": [
      "2\n"
     ]
    }
   ],
   "source": [
    "import pygame\n",
    "done = False\n",
    "\n",
    "BLACK = (0,0,0)\n",
    "WHITE = (255, 255, 255)\n",
    "isPressed = False\n",
    "\n",
    "screen = pygame.display.set_mode((280,280))\n",
    "\n",
    "\n",
    "screen.fill(WHITE)\n",
    "def drawCircle(screen,x,y):\n",
    "  pygame.draw.circle(screen,BLACK,(x,y),10)\n",
    "\n",
    "\n",
    "done = False\n",
    "while done == False:\n",
    "\n",
    "    for event in pygame.event.get():\n",
    "        if event.type == pygame.QUIT:  # If user clicked close\n",
    "            done = True  # Flag that we are done so we exit this loop\n",
    "        if event.type == pygame.MOUSEBUTTONDOWN:\n",
    "            isPressed = True\n",
    "        elif event.type == pygame.MOUSEBUTTONUP:\n",
    "            isPressed = False\n",
    "        if event.type == pygame.MOUSEMOTION and isPressed == True:\n",
    "            (x,y) = pygame.mouse.get_pos()\n",
    "            drawCircle(screen,x,y)\n",
    "        pygame.display.flip()\n",
    "        \n",
    "pygame.image.save(screen, \"screenshot.jpg\")\n",
    "\n",
    "pygame.quit()\n",
    "\n",
    "img = cv.imread(\"screenshot.jpg\",0)\n",
    "# cv.imshow(\"screenshot.jpg\", img)\n",
    "# cv.waitKey(0)\n",
    "cv.destroyAllWindows()\n",
    "img2 = abs((img / 255.0) -1)\n",
    "img2 = cv.resize(img2, (28,28), cv.INTER_AREA)\n",
    "img2 = img2.reshape(1,28,28)\n",
    "predictionn = model.predict([img2])\n",
    "\n",
    "print(np.argmax(predictionn[0]))\n"
   ]
  }
 ],
 "metadata": {
  "kernelspec": {
   "display_name": "Tensorflow2",
   "language": "python",
   "name": "tensorflow2"
  },
  "language_info": {
   "codemirror_mode": {
    "name": "ipython",
    "version": 3
   },
   "file_extension": ".py",
   "mimetype": "text/x-python",
   "name": "python",
   "nbconvert_exporter": "python",
   "pygments_lexer": "ipython3",
   "version": "3.7.9"
  }
 },
 "nbformat": 4,
 "nbformat_minor": 2
}
